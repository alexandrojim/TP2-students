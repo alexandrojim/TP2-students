{
 "cells": [
  {
   "cell_type": "markdown",
   "metadata": {},
   "source": [
    "## Estimating the Bias of a Coin with Frequentist and Bayesian Methods\n",
    "\n",
    "You are working on a project to determine the bias of a coin – that is, the probability that the coin lands on heads when flipped. You have been tasked to approach the problem from both a frequentist and a Bayesian perspective and compare the results.\n",
    "\n",
    "For the frequentist approach, you need to estimate the bias of the coin as the proportion of heads observed in a series of coin flips. However, you also want to incorporate prior beliefs about the coin's bias using the Bayesian approach. For this, you need to represent different states of belief about the bias: no initial preference (uniform belief), a belief that the coin is biased towards tails, and a belief that it is biased towards heads.\n",
    "\n",
    "The simulation must be reproducible, so you have to set a random seed before generating the coin flips. After simulating a small number of flips (let's say 10 flips to illustrate the concept with a small sample size), you'll need to visualize the frequentist estimate and the Bayesian priors and posteriors to compare how each prior affects the posterior belief about the coin's bias after observing the data.\n",
    "\n",
    "The project requires you to plot the frequentist estimate as a vertical line and to use Beta distributions for the Bayesian priors and posteriors. Each prior and posterior distribution should be plotted on the same graph to easily compare the different beliefs. Finally, present your findings in a way that a non-technical audience can understand, explaining the differences between the frequentist and Bayesian estimates. The code for the plots is already completed, you just need to compute the value for the variables.\n",
    "\n",
    "Your Python code should perform the following steps:\n",
    "\n",
    "- Set a seed to make the simulation reproducible.\n",
    "- Simulate 10 coin flips assuming a true bias (e.g., 70% heads).\n",
    "- Calculate the frequentist estimate for the coin's bias.\n",
    "- Define different priors to represent different beliefs about the coin's bias.\n",
    "- For each prior, calculate the Bayesian posterior by updating the prior with the observed number of heads and tails.\n",
    "- Plot both the frequentist estimate and the Bayesian priors and posteriors on the same graph.\n",
    "- Show the resulting graph.\n",
    "\n",
    "### Things to remember:\n",
    "\n",
    "1. The probability density function (PDF) of a coin toss follows a binomial distribution because a coin toss is a Bernoulli trial, which is a random experiment where there are exactly two possible outcomes - usually termed \"success\" and \"failure\". \n",
    "\n",
    "$$\n",
    "P(X = k) = \\binom{n}{k} p^k (1-p)^{n-k}\n",
    "$$\n",
    "\n",
    "2. The Bayesian approach to updating beliefs in the context of a binomial likelihood function involves using the beta distribution as the prior because it is the conjugate prior for the binomial likelihood. \n",
    "\n",
    "$$\n",
    "\\text{Posterior} \\propto \\text{Likelihood} \\times \\text{Prior}\n",
    "$$\n",
    "\n",
    "3. The beta prior has a PDF as follows:\n",
    "\n",
    "$$\n",
    "f(p|\\alpha, \\beta) = \\frac{p^{\\alpha - 1}(1 - p)^{\\beta - 1}}{B(\\alpha, \\beta)}\n",
    "$$\n",
    "\n",
    "4. You can use the `beta` function from the `scipy.stats` library, and the `binomial` from the `numpy.random` library.\n"
   ]
  },
  {
   "cell_type": "markdown",
   "metadata": {},
   "source": []
  },
  {
   "cell_type": "code",
   "execution_count": null,
   "metadata": {},
   "outputs": [],
   "source": [
    "import numpy as np\n",
    "from scipy.stats import beta\n",
    "import matplotlib.pyplot as plt\n",
    "\n",
    "# Set random seed for reproducibility\n",
    "np.random.seed(42)\n",
    "\n",
    "# True bias of the coin (for simulation purposes)\n",
    "\n",
    "\n",
    "# Reduce sample size\n",
    "\n",
    "\n",
    "# Simulate N coin flips (1 is heads, 0 is tails)\n",
    "\n",
    "\n",
    "# Frequentist Approach: Estimate bias as proportion of heads\n",
    "frequentist_estimate = \n",
    "\n",
    "\n",
    "# Define different priors\n",
    "priors = {\n",
    "    \"Uniform\": (1, 1),\n",
    "    \"Biased Towards Tails\": (2, 10),\n",
    "    \"Biased Towards Heads\": (10, 2)\n",
    "}\n",
    "\n",
    "plt.figure(figsize=(12, 7))\n",
    "x = np.linspace(0, 1, 1000)\n",
    "\n",
    "# Plot the Frequentist Estimate\n",
    "plt.axvline(frequentist_estimate, color='red', linestyle='--', label=f'Frequentist Estimate: {frequentist_estimate:.2f}')\n",
    "\n",
    "\n",
    "for label, (alpha_prior, beta_prior) in priors.items():\n",
    "    # Bayesian Approach: Update the prior with observed data\n",
    "    alpha_posterior = \n",
    "    beta_posterior = \n",
    "\n",
    "    # Plot the prior and posterior distributions\n",
    "    plt.plot(x, beta.pdf(x, alpha_prior, beta_prior), '--', label=f'Prior {label}: Beta({alpha_prior}, {beta_prior})')\n",
    "    plt.plot(x, beta.pdf(x, alpha_posterior, beta_posterior), label=f'Posterior {label}: Beta({alpha_posterior}, {beta_posterior})')\n",
    "\n",
    "plt.title(\"Estimating Coin Bias with Different Priors\")\n",
    "plt.xlabel(\"Bias (Probability of Heads)\")\n",
    "plt.ylabel(\"Density\")\n",
    "plt.legend()\n",
    "plt.show()\n"
   ]
  },
  {
   "cell_type": "markdown",
   "metadata": {},
   "source": [
    "## Comments:\n",
    "\n",
    "Incremente the number of coin flips until 100 in increments of 10. What do you observe? Is it what you expected? Why?"
   ]
  },
  {
   "cell_type": "markdown",
   "metadata": {},
   "source": []
  },
  {
   "cell_type": "markdown",
   "metadata": {},
   "source": []
  }
 ],
 "metadata": {
  "kernelspec": {
   "display_name": "Python 3",
   "language": "python",
   "name": "python3"
  },
  "language_info": {
   "name": "python",
   "version": "3.9.6"
  }
 },
 "nbformat": 4,
 "nbformat_minor": 2
}
