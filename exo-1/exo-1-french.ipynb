{
 "cells": [
  {
   "cell_type": "markdown",
   "metadata": {},
   "source": [
    "## Estimation du biais d'une pièce par des méthodes fréquentistes et bayésiennes\n",
    "\n",
    "Vous travaillez sur un projet pour déterminer le biais d'une pièce de monnaie - c'est-à-dire la probabilité que la pièce atterrisse sur pile lorsqu'elle est lancée. Vous avez pour tâche d'aborder le problème à la fois d'un point de vue fréquentiste et bayésien et de comparer les résultats.\n",
    "\n",
    "Pour l'approche fréquentiste, vous devez estimer le biais de la pièce comme la proportion de piles observée dans une série de lancers de pièce. Cependant, vous voulez aussi incorporer des croyances antérieures sur le biais de la pièce en utilisant l'approche bayésienne. Pour cela, vous devez représenter différents états de croyance concernant le biais : aucune préférence initiale (croyance uniforme), une croyance que la pièce est biaisée en faveur de face, et une croyance qu'elle est biaisée en faveur de pile.\n",
    "\n",
    "La simulation doit être reproductible, donc vous devez définir une graine aléatoire avant de générer les lancers de pièce. Après avoir simulé un petit nombre de lancers (disons 10 lancers pour illustrer le concept avec une taille d'échantillon réduite), vous devrez visualiser l'estimation fréquentiste et les a priori et postériori bayésiens pour comparer comment chaque a priori affecte la croyance postérieure sur le biais de la pièce après observation des données.\n",
    "\n",
    "Le projet exige que vous traciez l'estimation fréquentiste comme une ligne verticale et que vous utilisiez des distributions bêta pour les a priori et postériori bayésiens. Chaque distribution a priori et postérieure doit être tracée sur le même graphique pour comparer facilement les différentes croyances. Enfin, présentez vos conclusions de manière à ce qu'un public non technique puisse comprendre, en expliquant les différences entre les estimations fréquentistes et bayésiennes. Le code pour les graphiques est déjà terminé, vous avez juste besoin de calculer la valeur pour les variables.\n",
    "\n",
    "Votre code Python devrait effectuer les étapes suivantes :\n",
    "\n",
    "- Définir une graine pour rendre la simulation reproductible.\n",
    "- Simuler 10 lancers de pièce en supposant un vrai biais (par exemple, 70% pour pile).\n",
    "- Calculer l'estimation fréquentiste du biais de la pièce.\n",
    "- Définir différents a priori pour représenter différentes croyances concernant le biais de la pièce.\n",
    "- Pour chaque a priori, calculer le postérieur bayésien en mettant à jour l'a priori avec le nombre observé de piles et de faces.\n",
    "- Tracer à la fois l'estimation fréquentiste et les a priori et postérieurs bayésiens sur le même graphique.\n",
    "- Afficher le graphique résultant.\n",
    "\n",
    "### Choses à se rappeler :\n",
    "\n",
    "1. La fonction de masse de probabilité (FMP) d'un lancer de pièce suit une distribution binomiale car un lancer de pièce est un essai de Bernoulli, qui est une expérience aléatoire où il existe exactement deux issues possibles - habituellement appelées \"succès\" et \"échec\". \n",
    "\n",
    "$$\n",
    "P(X = k) = \\binom{n}{k} p^k (1-p)^{n-k}\n",
    "$$\n",
    "\n",
    "2. L'approche bayésienne de mise à jour des croyances dans le contexte d'une fonction de vraisemblance binomiale implique l'utilisation de la distribution bêta comme a priori car c'est l'a priori conjugué pour la vraisemblance binomiale.\n",
    "\n",
    "$$\n",
    "\\text{Posterior} \\propto \\text{Likelihood} \\times \\text{Prior}\n",
    "$$\n",
    "\n",
    "3. L'a priori bêta a une PDF comme suit :\n",
    "\n",
    "$$\n",
    "f(p|\\alpha, \\beta) = \\frac{p^{\\alpha - 1}(1 - p)^{\\beta - 1}}{B(\\alpha, \\beta)}\n",
    "$$\n",
    "\n",
    "4. Vous pouvez utiliser la fonction `beta` de la bibliothèque `scipy.stats`, et la `binomial` de la bibliothèque `numpy.random`.\n"
   ]
  },
  {
   "cell_type": "markdown",
   "metadata": {},
   "source": []
  },
  {
   "cell_type": "code",
   "execution_count": null,
   "metadata": {},
   "outputs": [],
   "source": [
    "import numpy as np\n",
    "from scipy.stats import beta\n",
    "import matplotlib.pyplot as plt\n",
    "\n",
    "# Set random seed for reproducibility\n",
    "np.random.seed(42)\n",
    "\n",
    "# True bias of the coin (for simulation purposes)\n",
    "\n",
    "\n",
    "# Reduce sample size\n",
    "\n",
    "\n",
    "# Simulate N coin flips (1 is heads, 0 is tails)\n",
    "\n",
    "\n",
    "# Frequentist Approach: Estimate bias as proportion of heads\n",
    "frequentist_estimate = \n",
    "\n",
    "\n",
    "# Define different priors\n",
    "priors = {\n",
    "    \"Uniform\": (1, 1),\n",
    "    \"Biased Towards Tails\": (2, 10),\n",
    "    \"Biased Towards Heads\": (10, 2)\n",
    "}\n",
    "\n",
    "plt.figure(figsize=(12, 7))\n",
    "x = np.linspace(0, 1, 1000)\n",
    "\n",
    "# Plot the Frequentist Estimate\n",
    "plt.axvline(frequentist_estimate, color='red', linestyle='--', label=f'Frequentist Estimate: {frequentist_estimate:.2f}')\n",
    "\n",
    "\n",
    "for label, (alpha_prior, beta_prior) in priors.items():\n",
    "    # Bayesian Approach: Update the prior with observed data\n",
    "    alpha_posterior = \n",
    "    beta_posterior = \n",
    "\n",
    "    # Plot the prior and posterior distributions\n",
    "    plt.plot(x, beta.pdf(x, alpha_prior, beta_prior), '--', label=f'Prior {label}: Beta({alpha_prior}, {beta_prior})')\n",
    "    plt.plot(x, beta.pdf(x, alpha_posterior, beta_posterior), label=f'Posterior {label}: Beta({alpha_posterior}, {beta_posterior})')\n",
    "\n",
    "plt.title(\"Estimating Coin Bias with Different Priors\")\n",
    "plt.xlabel(\"Bias (Probability of Heads)\")\n",
    "plt.ylabel(\"Density\")\n",
    "plt.legend()\n",
    "plt.show()\n"
   ]
  },
  {
   "cell_type": "markdown",
   "metadata": {},
   "source": [
    "## Comments:\n",
    "\n",
    "Increment the number of coin flips until 100 in increments of 10. What do you observe? Is it what you expected? Why?"
   ]
  },
  {
   "cell_type": "markdown",
   "metadata": {},
   "source": []
  },
  {
   "cell_type": "markdown",
   "metadata": {},
   "source": []
  }
 ],
 "metadata": {
  "kernelspec": {
   "display_name": "Python 3",
   "language": "python",
   "name": "python3"
  },
  "language_info": {
   "name": "python",
   "version": "3.9.6"
  }
 },
 "nbformat": 4,
 "nbformat_minor": 2
}
